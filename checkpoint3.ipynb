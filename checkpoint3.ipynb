{
  "nbformat": 4,
  "nbformat_minor": 0,
  "metadata": {
    "colab": {
      "name": "checkpoint3.ipynb",
      "provenance": [],
      "collapsed_sections": []
    },
    "kernelspec": {
      "name": "python3",
      "display_name": "Python 3"
    },
    "language_info": {
      "name": "python"
    }
  },
  "cells": [
    {
      "cell_type": "code",
      "execution_count": null,
      "metadata": {
        "colab": {
          "base_uri": "https://localhost:8080/"
        },
        "id": "D7skWBVigPHY",
        "outputId": "285bbbb6-a8a4-4f24-946e-b1f669fad7c9"
      },
      "outputs": [
        {
          "output_type": "stream",
          "name": "stdout",
          "text": [
            "36\n"
          ]
        }
      ],
      "source": [
        "#q1\n",
        "list=[2,3,6]\n",
        "sum=((list[0]*list[1]*list[2]))\n",
        "print(sum)"
      ]
    },
    {
      "cell_type": "code",
      "source": [
        "#q2\n",
        "l=[(2, 5), (1, 2), (4, 4), (2, 3), (2, 1)]\n",
        "z=sorted(l,key=lambda x:x[-1])\n",
        "print(z)"
      ],
      "metadata": {
        "colab": {
          "base_uri": "https://localhost:8080/"
        },
        "id": "dUoP3SAogu_l",
        "outputId": "ae674bec-8857-4228-ea01-53061c9bb494"
      },
      "execution_count": 12,
      "outputs": [
        {
          "output_type": "stream",
          "name": "stdout",
          "text": [
            "[(2, 1), (1, 2), (2, 3), (4, 4), (2, 5)]\n"
          ]
        }
      ]
    },
    {
      "cell_type": "code",
      "source": [
        "#q3\n",
        "d1={'a': 100, 'b': 200, 'c':300}\n",
        "d2={'a': 300, 'b': 200, 'd':400}\n",
        "d3 = dict(d1)\n",
        "d3.update(d2)\n",
        "print(d3)\n",
        "\n"
      ],
      "metadata": {
        "colab": {
          "base_uri": "https://localhost:8080/"
        },
        "id": "HFPIuJn4j_5T",
        "outputId": "7717fc10-1255-491a-a138-d3973e8440ca"
      },
      "execution_count": null,
      "outputs": [
        {
          "output_type": "stream",
          "name": "stdout",
          "text": [
            "{'a': 300, 'b': 200, 'c': 300, 'd': 400}\n"
          ]
        }
      ]
    },
    {
      "cell_type": "code",
      "source": [
        "#q5\n",
        "list= [('item1', '12.20'), ('item2', '15.10'), ('item3', '24.5')]\n",
        "z=sorted(l,key=lambda x:x[-1])\n",
        "print(z)"
      ],
      "metadata": {
        "id": "FKfUzhWrt2dB",
        "colab": {
          "base_uri": "https://localhost:8080/"
        },
        "outputId": "d10c278b-eebb-4785-c3a2-e346169fa1f5"
      },
      "execution_count": 16,
      "outputs": [
        {
          "output_type": "stream",
          "name": "stdout",
          "text": [
            "[('item1', '12.20'), ('item2', '15.10'), ('item3', '24.5')]\n"
          ]
        }
      ]
    },
    {
      "cell_type": "code",
      "source": [
        "#q4\n",
        "d={}\n",
        "for i in range (1,9):\n",
        " d[i]=i*i\n",
        "print(d)"
      ],
      "metadata": {
        "colab": {
          "base_uri": "https://localhost:8080/"
        },
        "id": "15bQA7tareLm",
        "outputId": "13d9ef14-4885-4c5a-8e54-7345d1c6afa5"
      },
      "execution_count": 20,
      "outputs": [
        {
          "output_type": "stream",
          "name": "stdout",
          "text": [
            "{1: 1, 2: 4, 3: 9, 4: 16, 5: 25, 6: 36, 7: 49, 8: 64}\n"
          ]
        }
      ]
    }
  ]
}